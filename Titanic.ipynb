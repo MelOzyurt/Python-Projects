{
 "cells": [
  {
   "cell_type": "code",
   "execution_count": 1,
   "id": "586a635f-cb4d-4de1-9ddd-eae1b9e72de7",
   "metadata": {},
   "outputs": [],
   "source": [
    "import numpy as np\n",
    "import pandas as pd\n",
    "import matplotlib.pyplot as plt"
   ]
  },
  {
   "cell_type": "code",
   "execution_count": 5,
   "id": "cbceb76f-6f23-4f35-9662-05fb03ca417e",
   "metadata": {},
   "outputs": [
    {
     "name": "stdout",
     "output_type": "stream",
     "text": [
      "  pclass  survived                                             name      age  \\\n",
      "0    1st         1                     Allen, Miss Elisabeth Walton  29.0000   \n",
      "1    1st         0                      Allison, Miss Helen Loraine   2.0000   \n",
      "2    1st         0              Allison, Mr Hudson Joshua Creighton  30.0000   \n",
      "3    1st         0  Allison, Mrs Hudson J.C. (Bessie Waldo Daniels)  25.0000   \n",
      "4    1st         1                    Allison, Master Hudson Trevor   0.9167   \n",
      "\n",
      "      embarked                        home.dest room      ticket  boat  gender  \n",
      "0  Southampton                     St Louis, MO  B-5  24160 L221     2  female  \n",
      "1  Southampton  Montreal, PQ / Chesterville, ON  C26         NaN   NaN  female  \n",
      "2  Southampton  Montreal, PQ / Chesterville, ON  C26         NaN  -135    male  \n",
      "3  Southampton  Montreal, PQ / Chesterville, ON  C26         NaN   NaN  female  \n",
      "4  Southampton  Montreal, PQ / Chesterville, ON  C22         NaN    11    male  \n"
     ]
    }
   ],
   "source": [
    "titanic_df = pd.read_excel(r\"D:\\Python Folder\\Titanic.xlsx\")\n",
    "\n",
    "# Display the first few rows\n",
    "print(titanic_df.head())\n"
   ]
  },
  {
   "cell_type": "code",
   "execution_count": 6,
   "id": "b9d30204-13c1-49e4-800c-a7dcf4fa0f84",
   "metadata": {},
   "outputs": [
    {
     "data": {
      "text/html": [
       "<div>\n",
       "<style scoped>\n",
       "    .dataframe tbody tr th:only-of-type {\n",
       "        vertical-align: middle;\n",
       "    }\n",
       "\n",
       "    .dataframe tbody tr th {\n",
       "        vertical-align: top;\n",
       "    }\n",
       "\n",
       "    .dataframe thead th {\n",
       "        text-align: right;\n",
       "    }\n",
       "</style>\n",
       "<table border=\"1\" class=\"dataframe\">\n",
       "  <thead>\n",
       "    <tr style=\"text-align: right;\">\n",
       "      <th></th>\n",
       "      <th>pclass</th>\n",
       "      <th>survived</th>\n",
       "      <th>name</th>\n",
       "      <th>age</th>\n",
       "      <th>embarked</th>\n",
       "      <th>home.dest</th>\n",
       "      <th>room</th>\n",
       "      <th>ticket</th>\n",
       "      <th>boat</th>\n",
       "      <th>gender</th>\n",
       "    </tr>\n",
       "  </thead>\n",
       "  <tbody>\n",
       "    <tr>\n",
       "      <th>0</th>\n",
       "      <td>1st</td>\n",
       "      <td>1</td>\n",
       "      <td>Allen, Miss Elisabeth Walton</td>\n",
       "      <td>29.0000</td>\n",
       "      <td>Southampton</td>\n",
       "      <td>St Louis, MO</td>\n",
       "      <td>B-5</td>\n",
       "      <td>24160 L221</td>\n",
       "      <td>2</td>\n",
       "      <td>female</td>\n",
       "    </tr>\n",
       "    <tr>\n",
       "      <th>1</th>\n",
       "      <td>1st</td>\n",
       "      <td>0</td>\n",
       "      <td>Allison, Miss Helen Loraine</td>\n",
       "      <td>2.0000</td>\n",
       "      <td>Southampton</td>\n",
       "      <td>Montreal, PQ / Chesterville, ON</td>\n",
       "      <td>C26</td>\n",
       "      <td>NaN</td>\n",
       "      <td>NaN</td>\n",
       "      <td>female</td>\n",
       "    </tr>\n",
       "    <tr>\n",
       "      <th>2</th>\n",
       "      <td>1st</td>\n",
       "      <td>0</td>\n",
       "      <td>Allison, Mr Hudson Joshua Creighton</td>\n",
       "      <td>30.0000</td>\n",
       "      <td>Southampton</td>\n",
       "      <td>Montreal, PQ / Chesterville, ON</td>\n",
       "      <td>C26</td>\n",
       "      <td>NaN</td>\n",
       "      <td>-135</td>\n",
       "      <td>male</td>\n",
       "    </tr>\n",
       "    <tr>\n",
       "      <th>3</th>\n",
       "      <td>1st</td>\n",
       "      <td>0</td>\n",
       "      <td>Allison, Mrs Hudson J.C. (Bessie Waldo Daniels)</td>\n",
       "      <td>25.0000</td>\n",
       "      <td>Southampton</td>\n",
       "      <td>Montreal, PQ / Chesterville, ON</td>\n",
       "      <td>C26</td>\n",
       "      <td>NaN</td>\n",
       "      <td>NaN</td>\n",
       "      <td>female</td>\n",
       "    </tr>\n",
       "    <tr>\n",
       "      <th>4</th>\n",
       "      <td>1st</td>\n",
       "      <td>1</td>\n",
       "      <td>Allison, Master Hudson Trevor</td>\n",
       "      <td>0.9167</td>\n",
       "      <td>Southampton</td>\n",
       "      <td>Montreal, PQ / Chesterville, ON</td>\n",
       "      <td>C22</td>\n",
       "      <td>NaN</td>\n",
       "      <td>11</td>\n",
       "      <td>male</td>\n",
       "    </tr>\n",
       "    <tr>\n",
       "      <th>...</th>\n",
       "      <td>...</td>\n",
       "      <td>...</td>\n",
       "      <td>...</td>\n",
       "      <td>...</td>\n",
       "      <td>...</td>\n",
       "      <td>...</td>\n",
       "      <td>...</td>\n",
       "      <td>...</td>\n",
       "      <td>...</td>\n",
       "      <td>...</td>\n",
       "    </tr>\n",
       "    <tr>\n",
       "      <th>1308</th>\n",
       "      <td>3rd</td>\n",
       "      <td>0</td>\n",
       "      <td>Zakarian, Mr Artun</td>\n",
       "      <td>NaN</td>\n",
       "      <td>NaN</td>\n",
       "      <td>NaN</td>\n",
       "      <td>NaN</td>\n",
       "      <td>NaN</td>\n",
       "      <td>NaN</td>\n",
       "      <td>male</td>\n",
       "    </tr>\n",
       "    <tr>\n",
       "      <th>1309</th>\n",
       "      <td>3rd</td>\n",
       "      <td>0</td>\n",
       "      <td>Zakarian, Mr Maprieder</td>\n",
       "      <td>NaN</td>\n",
       "      <td>NaN</td>\n",
       "      <td>NaN</td>\n",
       "      <td>NaN</td>\n",
       "      <td>NaN</td>\n",
       "      <td>NaN</td>\n",
       "      <td>male</td>\n",
       "    </tr>\n",
       "    <tr>\n",
       "      <th>1310</th>\n",
       "      <td>3rd</td>\n",
       "      <td>0</td>\n",
       "      <td>Zenn, Mr Philip</td>\n",
       "      <td>NaN</td>\n",
       "      <td>NaN</td>\n",
       "      <td>NaN</td>\n",
       "      <td>NaN</td>\n",
       "      <td>NaN</td>\n",
       "      <td>NaN</td>\n",
       "      <td>male</td>\n",
       "    </tr>\n",
       "    <tr>\n",
       "      <th>1311</th>\n",
       "      <td>3rd</td>\n",
       "      <td>0</td>\n",
       "      <td>Zievens, Rene</td>\n",
       "      <td>NaN</td>\n",
       "      <td>NaN</td>\n",
       "      <td>NaN</td>\n",
       "      <td>NaN</td>\n",
       "      <td>NaN</td>\n",
       "      <td>NaN</td>\n",
       "      <td>female</td>\n",
       "    </tr>\n",
       "    <tr>\n",
       "      <th>1312</th>\n",
       "      <td>3rd</td>\n",
       "      <td>0</td>\n",
       "      <td>Zimmerman, Leo</td>\n",
       "      <td>NaN</td>\n",
       "      <td>NaN</td>\n",
       "      <td>NaN</td>\n",
       "      <td>NaN</td>\n",
       "      <td>NaN</td>\n",
       "      <td>NaN</td>\n",
       "      <td>male</td>\n",
       "    </tr>\n",
       "  </tbody>\n",
       "</table>\n",
       "<p>1313 rows × 10 columns</p>\n",
       "</div>"
      ],
      "text/plain": [
       "     pclass  survived                                             name  \\\n",
       "0       1st         1                     Allen, Miss Elisabeth Walton   \n",
       "1       1st         0                      Allison, Miss Helen Loraine   \n",
       "2       1st         0              Allison, Mr Hudson Joshua Creighton   \n",
       "3       1st         0  Allison, Mrs Hudson J.C. (Bessie Waldo Daniels)   \n",
       "4       1st         1                    Allison, Master Hudson Trevor   \n",
       "...     ...       ...                                              ...   \n",
       "1308    3rd         0                               Zakarian, Mr Artun   \n",
       "1309    3rd         0                           Zakarian, Mr Maprieder   \n",
       "1310    3rd         0                                  Zenn, Mr Philip   \n",
       "1311    3rd         0                                    Zievens, Rene   \n",
       "1312    3rd         0                                   Zimmerman, Leo   \n",
       "\n",
       "          age     embarked                        home.dest room      ticket  \\\n",
       "0     29.0000  Southampton                     St Louis, MO  B-5  24160 L221   \n",
       "1      2.0000  Southampton  Montreal, PQ / Chesterville, ON  C26         NaN   \n",
       "2     30.0000  Southampton  Montreal, PQ / Chesterville, ON  C26         NaN   \n",
       "3     25.0000  Southampton  Montreal, PQ / Chesterville, ON  C26         NaN   \n",
       "4      0.9167  Southampton  Montreal, PQ / Chesterville, ON  C22         NaN   \n",
       "...       ...          ...                              ...  ...         ...   \n",
       "1308      NaN          NaN                              NaN  NaN         NaN   \n",
       "1309      NaN          NaN                              NaN  NaN         NaN   \n",
       "1310      NaN          NaN                              NaN  NaN         NaN   \n",
       "1311      NaN          NaN                              NaN  NaN         NaN   \n",
       "1312      NaN          NaN                              NaN  NaN         NaN   \n",
       "\n",
       "      boat  gender  \n",
       "0        2  female  \n",
       "1      NaN  female  \n",
       "2     -135    male  \n",
       "3      NaN  female  \n",
       "4       11    male  \n",
       "...    ...     ...  \n",
       "1308   NaN    male  \n",
       "1309   NaN    male  \n",
       "1310   NaN    male  \n",
       "1311   NaN  female  \n",
       "1312   NaN    male  \n",
       "\n",
       "[1313 rows x 10 columns]"
      ]
     },
     "execution_count": 6,
     "metadata": {},
     "output_type": "execute_result"
    }
   ],
   "source": [
    "titanic_df"
   ]
  },
  {
   "cell_type": "code",
   "execution_count": 7,
   "id": "8ad36beb-4fe9-40c2-b2da-f27ae36a6f86",
   "metadata": {},
   "outputs": [
    {
     "name": "stdout",
     "output_type": "stream",
     "text": [
      "{'female': [0, 1, 3, 6, 8, 11, 12, 15, 19, 23, 27, 28, 30, 31, 36, 37, 38, 41, 42, 48, 49, 52, 54, 56, 58, 59, 61, 64, 67, 69, 70, 73, 74, 76, 80, 81, 83, 85, 87, 89, 91, 93, 94, 95, 96, 99, 101, 102, 104, 107, 109, 111, 113, 115, 116, 118, 122, 123, 124, 128, 130, 132, 135, 136, 140, 141, 142, 144, 147, 149, 155, 157, 159, 162, 163, 164, 167, 169, 173, 178, 180, 182, 188, 189, 190, 194, 200, 202, 205, 208, 212, 214, 216, 219, 220, 222, 225, 227, 230, 236, ...], 'male': [2, 4, 5, 7, 9, 10, 13, 14, 16, 17, 18, 20, 21, 22, 24, 25, 26, 29, 32, 33, 34, 35, 39, 40, 43, 44, 45, 46, 47, 50, 51, 53, 55, 57, 60, 62, 63, 65, 66, 68, 71, 72, 75, 77, 78, 79, 82, 84, 86, 88, 90, 92, 97, 98, 100, 103, 105, 106, 108, 110, 112, 114, 117, 119, 120, 121, 125, 126, 127, 129, 131, 133, 134, 137, 138, 139, 143, 145, 146, 148, 150, 151, 152, 153, 154, 156, 158, 160, 161, 165, 166, 168, 170, 171, 172, 174, 175, 176, 177, 179, ...]}\n"
     ]
    }
   ],
   "source": [
    "grouped = titanic_df.groupby(['gender'])\n",
    "print(grouped.groups)  # Shows group labels and their indices\n"
   ]
  },
  {
   "cell_type": "code",
   "execution_count": 8,
   "id": "a1a95c50-853c-4484-a7b9-c613fd1c5449",
   "metadata": {},
   "outputs": [
    {
     "name": "stdout",
     "output_type": "stream",
     "text": [
      "{0.1667: [763], 0.3333: [751], 0.8333: [358, 544, 616], 0.9167: [4], 1.0: [339, 425, 478, 762], 2.0: [1, 491, 512, 537, 585, 627], 3.0: [479, 514, 546, 644, 657, 737], 4.0: [86, 338, 584, 633], 5.0: [642, 647, 794], 6.0: [242, 428, 626, 677, 830], 7.0: [433], 8.0: [376, 384, 397, 538], 9.0: [630, 643, 680, 738, 808, 821, 828], 10.0: [829], 11.0: [50, 632, 831], 12.0: [340, 578], 13.0: [221, 501, 603, 645], 14.0: [49, 564, 826], 15.0: [169, 347, 664], 16.0: [140, 164, 413, 604, 606, 710, 788, 810, 817, 827], 17.0: [83, 202, 263, 455, 621, 628, 651, 700, 742, 757], 18.0: [201, 220, 236, 258, 324, 329, 386, 391, 393, 442, 511, 553, 601, 608, 615, 637, 661, 666, 675, 685, 695, 696, 720, 787, 807], 19.0: [11, 23, 100, 122, 190, 335, 342, 361, 402, 494, 502, 516, 669, 694, 722, 734, 740, 746, 771, 777, 838], 20.0: [282, 350, 380, 496, 518, 528, 554, 609, 618, 623, 634, 654, 672, 686, 693, 721, 835], 21.0: [128, 167, 222, 275, 285, 382, 401, 417, 441, 445, 450, 531, 549, 674, 692, 701, 702, 703, 715, 756, 806], 22.0: [31, 109, 115, 194, 198, 377, 389, 418, 465, 477, 521, 559, 566, 572, 668, 671, 689, 690, 729, 745, 755, 785, 816], 23.0: [93, 102, 125, 189, 239, 330, 343, 400, 424, 444, 462, 543, 576, 617, 646, 650, 653, 769, 780, 784], 24.0: [16, 99, 136, 235, 238, 373, 412, 416, 434, 435, 523, 599, 613, 638, 706, 714, 723, 724, 754, 779, 782, 783], 25.0: [3, 21, 22, 127, 351, 353, 390, 483, 545, 552, 561, 563, 607, 619, 636, 753, 764, 813], 26.0: [20, 64, 344, 356, 357, 414, 473, 476, 515, 596, 611, 631, 635, 663, 670, 676, 684, 719, 760, 770], 27.0: [57, 63, 78, 80, 87, 214, 281, 346, 372, 493, 568, 570, 652, 667, 733, 752], 28.0: [24, 101, 177, 195, 232, 323, 332, 336, 385, 388, 427, 525, 542, 575, 581, 709, 712, 750, 837], 29.0: [0, 166, 369, 371, 519, 569, 583, 688, 718, 747], 30.0: [2, 27, 98, 168, 170, 322, 365, 366, 378, 421, 423, 429, 472, 495, 503, 541, 555, 557, 571, 574, 598, 610, 699, 728, 735, 748, 767, 778], 31.0: [58, 79, 82, 188, 209, 266, 278, 359, 375, 471, 726, 727], 32.0: [245, 309, 327, 334, 392, 440, 510, 513, 532, 582, 593, 622, 655, 673, 682, 717, 776, 833], 33.0: [44, 180, 212, 316, 454, 536, 589, 656, 707, 708, 761, 819], 34.0: [226, 326, 341, 396, 420, 439, 463, 475, 533, 540, 749], 35.0: [113, 144, 145, 147, 374, 409, 410, 558, 573, 605, 620, 639, 691, 732], 36.0: [17, 43, 47, 48, 53, 74, 95, 132, 176, 186, 228, 288, 331, 337, 352, 449, 539, 580, 588, 725, 736, 765, 766], 37.0: [18, 68, 112, 182, 711, 836], 38.0: [76, 121, 146, 406, 408, 411, 629, 641, 697, 823], 39.0: [7, 26, 69, 75, 92, 230, 257, 262, 520, 624, 625], 40.0: [157, 227, 241, 306, 349, 529, 579, 612, 640, 662, 681, 824, 832], 41.0: [33, 154, 451, 500, 562, 614, 822], 42.0: [143, 156, 161, 355, 395, 448, 530, 602, 774], 43.0: [208, 248, 431, 731, 775, 825], 44.0: [36, 108, 141, 181, 363, 426, 741], 45.0: [25, 30, 39, 116, 124, 131, 240, 277, 348, 415, 432, 468, 497, 649, 665, 744, 789], 46.0: [55, 126, 151, 174, 204, 255, 264, 499], 47.0: [5, 10, 19, 56, 114, 185, 269, 793], 48.0: [34, 89, 91, 111, 129, 219, 259, 437, 485, 504, 809], 49.0: [51, 90, 106, 117, 130, 150, 261, 383, 436], 50.0: [15, 88, 149, 163, 229, 279, 280, 422, 527, 547, 565], 51.0: [142, 283, 333], 52.0: [135, 203, 249, 256, 364, 447], 53.0: [41, 94, 443], 54.0: [120, 175, 216, 247, 274, 362, 506], 55.0: [70, 134, 162, 184, 215, 273], 56.0: [205, 231, 233, 234], 57.0: [243, 276, 328, 487], 58.0: [8, 28, 42, 123, 153, 187], 59.0: [37, 556, 739], 60.0: [38, 104, 110, 271, 272], 61.0: [218, 254, 268], 62.0: [246, 251], 63.0: [6, 253], 64.0: [67, 103, 191, 193, 270, 509], 65.0: [179, 772], 67.0: [252], 69.0: [73], 70.0: [72], 71.0: [9, 119, 505]}\n"
     ]
    }
   ],
   "source": [
    "grouped = titanic_df.groupby(['age'])\n",
    "print(grouped.groups)  # Shows group labels and their indices\n"
   ]
  },
  {
   "cell_type": "code",
   "execution_count": 9,
   "id": "b6b134ed-b4da-428d-a9b7-3f4868b47f7f",
   "metadata": {},
   "outputs": [
    {
     "data": {
      "text/plain": [
       "np.float64(0.341964965727342)"
      ]
     },
     "execution_count": 9,
     "metadata": {},
     "output_type": "execute_result"
    }
   ],
   "source": [
    "titanic_df['survived'].mean()"
   ]
  },
  {
   "cell_type": "code",
   "execution_count": 10,
   "id": "512c836c-af63-4609-b790-15fc72baf94e",
   "metadata": {},
   "outputs": [
    {
     "data": {
      "text/plain": [
       "np.float64(31.19418104265403)"
      ]
     },
     "execution_count": 10,
     "metadata": {},
     "output_type": "execute_result"
    }
   ],
   "source": [
    "titanic_df['age'].mean()"
   ]
  },
  {
   "cell_type": "code",
   "execution_count": 11,
   "id": "e5093bbc-d380-4451-bc31-9ccfcdf80717",
   "metadata": {},
   "outputs": [
    {
     "data": {
      "text/html": [
       "<div>\n",
       "<style scoped>\n",
       "    .dataframe tbody tr th:only-of-type {\n",
       "        vertical-align: middle;\n",
       "    }\n",
       "\n",
       "    .dataframe tbody tr th {\n",
       "        vertical-align: top;\n",
       "    }\n",
       "\n",
       "    .dataframe thead th {\n",
       "        text-align: right;\n",
       "    }\n",
       "</style>\n",
       "<table border=\"1\" class=\"dataframe\">\n",
       "  <thead>\n",
       "    <tr style=\"text-align: right;\">\n",
       "      <th></th>\n",
       "      <th>pclass</th>\n",
       "      <th>survived</th>\n",
       "      <th>name</th>\n",
       "      <th>age</th>\n",
       "      <th>embarked</th>\n",
       "      <th>home.dest</th>\n",
       "      <th>gender</th>\n",
       "    </tr>\n",
       "  </thead>\n",
       "  <tbody>\n",
       "    <tr>\n",
       "      <th>0</th>\n",
       "      <td>1st</td>\n",
       "      <td>1</td>\n",
       "      <td>Allen, Miss Elisabeth Walton</td>\n",
       "      <td>29.0000</td>\n",
       "      <td>Southampton</td>\n",
       "      <td>St Louis, MO</td>\n",
       "      <td>female</td>\n",
       "    </tr>\n",
       "    <tr>\n",
       "      <th>1</th>\n",
       "      <td>1st</td>\n",
       "      <td>0</td>\n",
       "      <td>Allison, Miss Helen Loraine</td>\n",
       "      <td>2.0000</td>\n",
       "      <td>Southampton</td>\n",
       "      <td>Montreal, PQ / Chesterville, ON</td>\n",
       "      <td>female</td>\n",
       "    </tr>\n",
       "    <tr>\n",
       "      <th>2</th>\n",
       "      <td>1st</td>\n",
       "      <td>0</td>\n",
       "      <td>Allison, Mr Hudson Joshua Creighton</td>\n",
       "      <td>30.0000</td>\n",
       "      <td>Southampton</td>\n",
       "      <td>Montreal, PQ / Chesterville, ON</td>\n",
       "      <td>male</td>\n",
       "    </tr>\n",
       "    <tr>\n",
       "      <th>3</th>\n",
       "      <td>1st</td>\n",
       "      <td>0</td>\n",
       "      <td>Allison, Mrs Hudson J.C. (Bessie Waldo Daniels)</td>\n",
       "      <td>25.0000</td>\n",
       "      <td>Southampton</td>\n",
       "      <td>Montreal, PQ / Chesterville, ON</td>\n",
       "      <td>female</td>\n",
       "    </tr>\n",
       "    <tr>\n",
       "      <th>4</th>\n",
       "      <td>1st</td>\n",
       "      <td>1</td>\n",
       "      <td>Allison, Master Hudson Trevor</td>\n",
       "      <td>0.9167</td>\n",
       "      <td>Southampton</td>\n",
       "      <td>Montreal, PQ / Chesterville, ON</td>\n",
       "      <td>male</td>\n",
       "    </tr>\n",
       "  </tbody>\n",
       "</table>\n",
       "</div>"
      ],
      "text/plain": [
       "  pclass  survived                                             name      age  \\\n",
       "0    1st         1                     Allen, Miss Elisabeth Walton  29.0000   \n",
       "1    1st         0                      Allison, Miss Helen Loraine   2.0000   \n",
       "2    1st         0              Allison, Mr Hudson Joshua Creighton  30.0000   \n",
       "3    1st         0  Allison, Mrs Hudson J.C. (Bessie Waldo Daniels)  25.0000   \n",
       "4    1st         1                    Allison, Master Hudson Trevor   0.9167   \n",
       "\n",
       "      embarked                        home.dest  gender  \n",
       "0  Southampton                     St Louis, MO  female  \n",
       "1  Southampton  Montreal, PQ / Chesterville, ON  female  \n",
       "2  Southampton  Montreal, PQ / Chesterville, ON    male  \n",
       "3  Southampton  Montreal, PQ / Chesterville, ON  female  \n",
       "4  Southampton  Montreal, PQ / Chesterville, ON    male  "
      ]
     },
     "execution_count": 11,
     "metadata": {},
     "output_type": "execute_result"
    }
   ],
   "source": [
    "titanic_df.drop(['ticket', 'boat', 'room'],axis=1).head()"
   ]
  },
  {
   "cell_type": "code",
   "execution_count": 14,
   "id": "64ecfce7-04af-4596-8d66-52cbc53c4a7a",
   "metadata": {},
   "outputs": [
    {
     "name": "stdout",
     "output_type": "stream",
     "text": [
      "gender\n",
      "female    463\n",
      "male      850\n",
      "dtype: int64\n"
     ]
    }
   ],
   "source": [
    "# Group by 'gender' and count the number of passengers in each group\n",
    "gender_count = titanic_df.groupby('gender').size()\n",
    "\n",
    "print(gender_count)\n"
   ]
  },
  {
   "cell_type": "code",
   "execution_count": null,
   "id": "17acbe6f-ffb2-4867-8231-b4de7082327e",
   "metadata": {},
   "outputs": [],
   "source": []
  }
 ],
 "metadata": {
  "kernelspec": {
   "display_name": "Python 3 (ipykernel)",
   "language": "python",
   "name": "python3"
  },
  "language_info": {
   "codemirror_mode": {
    "name": "ipython",
    "version": 3
   },
   "file_extension": ".py",
   "mimetype": "text/x-python",
   "name": "python",
   "nbconvert_exporter": "python",
   "pygments_lexer": "ipython3",
   "version": "3.13.2"
  }
 },
 "nbformat": 4,
 "nbformat_minor": 5
}
