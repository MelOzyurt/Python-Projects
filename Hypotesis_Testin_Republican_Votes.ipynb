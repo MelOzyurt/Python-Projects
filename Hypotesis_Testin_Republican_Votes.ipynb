{
 "cells": [
  {
   "cell_type": "markdown",
   "id": "0678e89f-7681-4bda-a202-210fd4643bcc",
   "metadata": {},
   "source": [
    "# Aim of the Analysis\n",
    "\n",
    "The aim of this analysis is to determine whether the Republican candidates received a significantly smaller percentage of the vote in 2008 compared to 2012. This is tested by examining the mean difference in vote percentages between the two years using a paired-sample t-test.\n"
   ]
  },
  {
   "cell_type": "code",
   "execution_count": 2,
   "id": "7171dc11-7eb6-4990-bd21-1a0f26e9f26b",
   "metadata": {},
   "outputs": [
    {
     "data": {
      "text/html": [
       "<div>\n",
       "<style scoped>\n",
       "    .dataframe tbody tr th:only-of-type {\n",
       "        vertical-align: middle;\n",
       "    }\n",
       "\n",
       "    .dataframe tbody tr th {\n",
       "        vertical-align: top;\n",
       "    }\n",
       "\n",
       "    .dataframe thead th {\n",
       "        text-align: right;\n",
       "    }\n",
       "</style>\n",
       "<table border=\"1\" class=\"dataframe\">\n",
       "  <thead>\n",
       "    <tr style=\"text-align: right;\">\n",
       "      <th></th>\n",
       "      <th>state</th>\n",
       "      <th>county</th>\n",
       "      <th>repub_percent_08</th>\n",
       "      <th>repub_percent_12</th>\n",
       "    </tr>\n",
       "  </thead>\n",
       "  <tbody>\n",
       "    <tr>\n",
       "      <th>0</th>\n",
       "      <td>Alabama</td>\n",
       "      <td>Hale</td>\n",
       "      <td>38.957877</td>\n",
       "      <td>37.139882</td>\n",
       "    </tr>\n",
       "    <tr>\n",
       "      <th>1</th>\n",
       "      <td>Arkansas</td>\n",
       "      <td>Nevada</td>\n",
       "      <td>56.726272</td>\n",
       "      <td>58.983452</td>\n",
       "    </tr>\n",
       "    <tr>\n",
       "      <th>2</th>\n",
       "      <td>California</td>\n",
       "      <td>Lake</td>\n",
       "      <td>38.896719</td>\n",
       "      <td>39.331367</td>\n",
       "    </tr>\n",
       "    <tr>\n",
       "      <th>3</th>\n",
       "      <td>California</td>\n",
       "      <td>Ventura</td>\n",
       "      <td>42.923190</td>\n",
       "      <td>45.250693</td>\n",
       "    </tr>\n",
       "    <tr>\n",
       "      <th>4</th>\n",
       "      <td>Colorado</td>\n",
       "      <td>Lincoln</td>\n",
       "      <td>74.522569</td>\n",
       "      <td>73.764757</td>\n",
       "    </tr>\n",
       "  </tbody>\n",
       "</table>\n",
       "</div>"
      ],
      "text/plain": [
       "        state   county  repub_percent_08  repub_percent_12\n",
       "0     Alabama     Hale         38.957877         37.139882\n",
       "1    Arkansas   Nevada         56.726272         58.983452\n",
       "2  California     Lake         38.896719         39.331367\n",
       "3  California  Ventura         42.923190         45.250693\n",
       "4    Colorado  Lincoln         74.522569         73.764757"
      ]
     },
     "execution_count": 2,
     "metadata": {},
     "output_type": "execute_result"
    }
   ],
   "source": [
    "import pandas as pd\n",
    "\n",
    "df= pd.read_feather(r\"E:\\Python Folder\\repub_votes_potus_08_12.feather\")\n",
    "df.head()\n"
   ]
  },
  {
   "cell_type": "code",
   "execution_count": 3,
   "id": "ae0df77e-aa5c-46eb-91ae-7d80b7835e8a",
   "metadata": {
    "scrolled": true
   },
   "outputs": [
    {
     "data": {
      "text/html": [
       "<div>\n",
       "<style scoped>\n",
       "    .dataframe tbody tr th:only-of-type {\n",
       "        vertical-align: middle;\n",
       "    }\n",
       "\n",
       "    .dataframe tbody tr th {\n",
       "        vertical-align: top;\n",
       "    }\n",
       "\n",
       "    .dataframe thead th {\n",
       "        text-align: right;\n",
       "    }\n",
       "</style>\n",
       "<table border=\"1\" class=\"dataframe\">\n",
       "  <thead>\n",
       "    <tr style=\"text-align: right;\">\n",
       "      <th></th>\n",
       "      <th>repub_percent_08</th>\n",
       "      <th>repub_percent_12</th>\n",
       "    </tr>\n",
       "  </thead>\n",
       "  <tbody>\n",
       "    <tr>\n",
       "      <th>count</th>\n",
       "      <td>100.000000</td>\n",
       "      <td>100.000000</td>\n",
       "    </tr>\n",
       "    <tr>\n",
       "      <th>mean</th>\n",
       "      <td>58.063123</td>\n",
       "      <td>60.940232</td>\n",
       "    </tr>\n",
       "    <tr>\n",
       "      <th>std</th>\n",
       "      <td>12.826146</td>\n",
       "      <td>13.634216</td>\n",
       "    </tr>\n",
       "    <tr>\n",
       "      <th>min</th>\n",
       "      <td>27.646669</td>\n",
       "      <td>25.708598</td>\n",
       "    </tr>\n",
       "    <tr>\n",
       "      <th>25%</th>\n",
       "      <td>49.920860</td>\n",
       "      <td>53.523304</td>\n",
       "    </tr>\n",
       "    <tr>\n",
       "      <th>50%</th>\n",
       "      <td>58.637381</td>\n",
       "      <td>63.245448</td>\n",
       "    </tr>\n",
       "    <tr>\n",
       "      <th>75%</th>\n",
       "      <td>67.877051</td>\n",
       "      <td>69.986085</td>\n",
       "    </tr>\n",
       "    <tr>\n",
       "      <th>max</th>\n",
       "      <td>90.125673</td>\n",
       "      <td>91.003460</td>\n",
       "    </tr>\n",
       "  </tbody>\n",
       "</table>\n",
       "</div>"
      ],
      "text/plain": [
       "       repub_percent_08  repub_percent_12\n",
       "count        100.000000        100.000000\n",
       "mean          58.063123         60.940232\n",
       "std           12.826146         13.634216\n",
       "min           27.646669         25.708598\n",
       "25%           49.920860         53.523304\n",
       "50%           58.637381         63.245448\n",
       "75%           67.877051         69.986085\n",
       "max           90.125673         91.003460"
      ]
     },
     "execution_count": 3,
     "metadata": {},
     "output_type": "execute_result"
    }
   ],
   "source": [
    "df.describe()"
   ]
  },
  {
   "cell_type": "markdown",
   "id": "be44c789-4870-4af0-95a1-da0a3d11e110",
   "metadata": {},
   "source": [
    "#Task:I will run a Hypotesis Testing on this Data Set\n",
    "\n",
    "Question 1: what i sthe percentage of Republican candidate votes lower in 2008 than 2012?\n",
    "\n",
    "One question is whether the percentage of votes for the Republican candidate was lower in 2008 compared to 2012 \n",
    "To test this we form hypotheses as before the null hypothesis is that our hunch is wrong and that the population parameters are the same in each year group the alternative hypothesis is that the parameter in 2008 was lower than in 2012.\n",
    "\n",
    "$H_0: \\mu_{2008} - \\mu_{2012} = 0$  \n",
    "$H_a: \\mu_{2008} - \\mu_{2012} < 0$\n",
    "\n",
    "Let's set a significant level of 05 \n",
    "\n",
    "Significance level: $\\alpha = 0.05$\n",
    "\n",
    "One feature of this data set is that the 2008 votes in the 2012 votes are paired which means they aren't independent since they both refer to the same County this means voting patterns may occur due to county level demographics and local politics and we want to capture this pairing in our model \n"
   ]
  },
  {
   "cell_type": "code",
   "execution_count": 4,
   "id": "810667af-2d00-4757-83f2-8fc0384b87b0",
   "metadata": {
    "scrolled": true
   },
   "outputs": [
    {
     "data": {
      "text/plain": [
       "<Axes: >"
      ]
     },
     "execution_count": 4,
     "metadata": {},
     "output_type": "execute_result"
    },
    {
     "data": {
      "image/png": "[encoded data removed]",
      "text/plain": [
       "<Figure size 640x480 with 1 Axes>"
      ]
     },
     "metadata": {},
     "output_type": "display_data"
    }
   ],
   "source": [
    "df['diff'] = df['repub_percent_08'] - df['repub_percent_12']\n",
    "\n",
    "import matplotlib.pyplot as plt\n",
    "df['diff'].hist(bins=20)"
   ]
  },
  {
   "cell_type": "markdown",
   "id": "82c6d6bd-dbe6-4356-b6b5-e62c7caa93c5",
   "metadata": {},
   "source": [
    "the paired analyses rather than considering the two variables separately we can consider a single variable of the different this is stored in a data frame called sample data with a column named death in this histogram of the different most values are between -10 with at least one outlier.\n"
   ]
  },
  {
   "cell_type": "code",
   "execution_count": 8,
   "id": "7480f702-ae4e-4739-a09a-e7b54ef6e155",
   "metadata": {},
   "outputs": [
    {
     "name": "stdout",
     "output_type": "stream",
     "text": [
      "-2.877109041242944\n"
     ]
    }
   ],
   "source": [
    "xbar_diff = df['diff'].mean()\n",
    "print(xbar_diff)"
   ]
  },
  {
   "cell_type": "markdown",
   "id": "c3ef1a00-d56c-44e3-99bb-e677ec463813",
   "metadata": {},
   "source": [
    "The sample mean, x-bar, is calculated from this difference. It is around minus two-point-eight-eight.\n",
    "We can restate the hypotheses in terms of the single population mean, mu-diff, being equal to or less than zero. The test statistic, t, has a slightly simpler equation compared to the two sample case. We have one statistic, so the number of degrees of freedom is the number of pairs minus one.\n",
    "\n",
    "$H_0: \\mu_{diff} = 0$  \n",
    "$H_a: \\mu_{diff} < 0$\n"
   ]
  },
  {
   "cell_type": "markdown",
   "id": "3c17b8e6-c591-4b03-ae43-8f2a5d49c531",
   "metadata": {},
   "source": [
    "### Test Statistic Formula\n",
    "\n",
    "$t = \\frac{\\overline{x}_{\\text{diff}} - \\mu_{\\text{diff}}}{\\frac{s_{\\text{diff}}}{\\sqrt{n_{\\text{diff}}}}}$\n",
    "\n",
    "### Degrees of Freedom\n",
    "\n",
    "$df = n_{\\text{diff}} - 1$\n",
    "\n",
    "### Hypothesis Test Summary\n",
    "\n",
    "To calculate the test statistic, we need:\n",
    "- Number of observations: $n = 100$\n",
    "- Mean of the differences: $\\overline{x}_{\\text{diff}} = -2.88$\n",
    "- Assumed mean difference under the null hypothesis: $\\mu_{\\text{diff}} = 0$\n",
    "- Standard deviation of the differences: *known or previously computed*\n",
    "- Degrees of freedom: $df = n - 1 = 99$\n",
    "\n",
    "### Test Statistic Formula\n",
    "\n",
    "\\[\n",
    "t = \\frac{\\overline{x}_{\\text{diff}} - \\mu_{\\text{diff}}}{\\frac{s_{\\text{diff}}}{\\sqrt{n}}}\n",
    "\\]\n",
    "\n",
    "Using the given values, the calculated test statistic is:\n",
    "\n",
    "\\[\n",
    "t = -5.6\n",
    "\\]\n",
    "\n",
    "### p-value Calculation\n",
    "\n",
    "Using the t-distribution CDF with 99 degrees of freedom:\n",
    "\n",
    "\n",
    "Since the p-value is much smaller than the significance level $\\alpha = 0.05$, we **reject the null hypothesis**.\n",
    "\n",
    "There is strong evidence to support the alternative hypothesis:  \n",
    "> Republican candidates received a **smaller percentage of the vote in 2008 compared to 2012**.\n",
    "\n"
   ]
  },
  {
   "cell_type": "code",
   "execution_count": 11,
   "id": "b94944d4-93ce-4e00-a4fd-b738b64984ab",
   "metadata": {},
   "outputs": [
    {
     "data": {
      "text/plain": [
       "100"
      ]
     },
     "execution_count": 11,
     "metadata": {},
     "output_type": "execute_result"
    }
   ],
   "source": [
    "n_diff = len(df)\n",
    "n_diff"
   ]
  },
  {
   "cell_type": "code",
   "execution_count": 17,
   "id": "aec96fbd-d1c4-471d-acb3-3dfba7d96351",
   "metadata": {},
   "outputs": [
    {
     "data": {
      "text/plain": [
       "np.float64(5.136737887231852)"
      ]
     },
     "execution_count": 17,
     "metadata": {},
     "output_type": "execute_result"
    }
   ],
   "source": [
    "s_diff = df['diff'].std()\n",
    "s_diff"
   ]
  },
  {
   "cell_type": "markdown",
   "id": "15394a6e-5dbf-4eee-9ea1-6382dee69a2a",
   "metadata": {},
   "source": [
    "To calculate the test statistic, we need the number of rows in the dataset, one hundred, and the standard deviation of the differences. We already calculated x-bar-diff, the mean of the differences, as minus two-point-eight-eight. Assuming the null hypothesis is true means mu-diff is zero. We now have everything we need to plug into the equation to calculate t. It's minus five-point-six."
   ]
  },
  {
   "cell_type": "code",
   "execution_count": 18,
   "id": "c8fb520d-34f1-4568-958e-58b3d99df819",
   "metadata": {},
   "outputs": [
    {
     "name": "stdout",
     "output_type": "stream",
     "text": [
      "t-statistic: -5.601043121928489\n"
     ]
    }
   ],
   "source": [
    "import numpy as np\n",
    "\n",
    "t_stat = (xbar_diff - 0) / (s_diff / np.sqrt(n_diff))\n",
    "\n",
    "print(\"t-statistic:\", t_stat)"
   ]
  },
  {
   "cell_type": "markdown",
   "id": "aad068b2-0767-489e-b3fd-4b203dfc2a31",
   "metadata": {},
   "source": [
    "# The degrees of freedom are one less than n-diff at ninety nine. "
   ]
  },
  {
   "cell_type": "code",
   "execution_count": 21,
   "id": "03f1f8b2-c074-413f-a679-6f47c3466ed5",
   "metadata": {},
   "outputs": [
    {
     "data": {
      "text/plain": [
       "99"
      ]
     },
     "execution_count": 21,
     "metadata": {},
     "output_type": "execute_result"
    }
   ],
   "source": [
    "degrees_of_freedom = n_diff-1\n",
    "degrees_of_freedom "
   ]
  },
  {
   "cell_type": "markdown",
   "id": "a8e71357-72bc-4f13-888e-7ae5c132cf3e",
   "metadata": {},
   "source": [
    "# Finally, we transform t with the t-distribution CDF."
   ]
  },
  {
   "cell_type": "code",
   "execution_count": 23,
   "id": "234b7d6c-f840-4c72-92ed-5ad72a3a71df",
   "metadata": {},
   "outputs": [
    {
     "name": "stdout",
     "output_type": "stream",
     "text": [
      "9.572537285272411e-08\n"
     ]
    }
   ],
   "source": [
    "from scipy.stats import t\n",
    "\n",
    "p_value = t.cdf(t_stat, df=n_diff-1)\n",
    "print(p_value)"
   ]
  },
  {
   "cell_type": "markdown",
   "id": "735c70ef-d80a-4953-8f94-a8358084dad3",
   "metadata": {},
   "source": [
    "# The p-value is really small at around nine-point-six times ten to the minus eight. That means we reject the null hypothesis in favor of the alternative hypothesis that the Republican candidates got a smaller percentage of the vote in 2008 compared to 2012."
   ]
  },
  {
   "cell_type": "markdown",
   "id": "f543ebcd-c56d-4b99-961b-e5ec3049c527",
   "metadata": {},
   "source": [
    "# there's an easier way. The pingouin package provides a variety of different methods for hypothesis testing and returns the results as a pandas DataFrame. Its output can be a little friendlier to work with than similar methods from scipy-dot-stats. One method from pingouin is ttest and it works with array-like objects, so the first argument is the Series of differences. For a converted one sample test like this, y specifies the hypothesized difference value from the null hypothesis, which is zero. The type of alternative hypothesis can be specified as two-sided, less, or greater, corresponding to two-tailed, left-tailed, and right-tailed tests, respectively. Here's the output. We can recognize the value of the test statistic, the degrees of freedom, the alternative direction, and the p-value."
   ]
  },
  {
   "cell_type": "code",
   "execution_count": 26,
   "id": "63251bc5-80b4-43a9-8805-f6478ba72388",
   "metadata": {},
   "outputs": [
    {
     "name": "stdout",
     "output_type": "stream",
     "text": [
      "               T  dof alternative         p-val          CI95%   cohen-d  \\\n",
      "T-test -5.601043   99        less  9.572537e-08  [-inf, -2.02]  0.560104   \n",
      "\n",
      "             BF10     power  \n",
      "T-test  1.323e+05  0.999955  \n"
     ]
    }
   ],
   "source": [
    "import pingouin as pg\n",
    "\n",
    "# Run a one-sample t-test comparing df['diff'] to 0\n",
    "result = pg.ttest(x=df['diff'], y=0, alternative='less')\n",
    "\n",
    "print(result)\n"
   ]
  },
  {
   "cell_type": "markdown",
   "id": "99d7433b-160f-4e69-b390-3d2aee8ffa70",
   "metadata": {},
   "source": [
    "# ### Conclusion\n",
    "\n",
    "Based on the hypothesis test, the calculated t-statistic was approximately \\(-5.6\\) with \\(99\\) degrees of freedom. The p-value was extremely small (around \\(9.6 \\times 10^{-8}\\)), which is much less than the significance level \\(\\alpha = 0.05\\).\n",
    "\n",
    "Therefore, we **reject the null hypothesis** and conclude that there is strong statistical evidence to support the claim that the Republican candidates received a smaller percentage of the vote in 2008 compared to 2012.\n",
    "\n"
   ]
  }
 ],
 "metadata": {
  "kernelspec": {
   "display_name": "Python 3 (ipykernel)",
   "language": "python",
   "name": "python3"
  },
  "language_info": {
   "codemirror_mode": {
    "name": "ipython",
    "version": 3
   },
   "file_extension": ".py",
   "mimetype": "text/x-python",
   "name": "python",
   "nbconvert_exporter": "python",
   "pygments_lexer": "ipython3",
   "version": "3.13.2"
  }
 },
 "nbformat": 4,
 "nbformat_minor": 5
}
