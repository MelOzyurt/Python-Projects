{
 "cells": [
  {
   "cell_type": "code",
   "execution_count": null,
   "id": "cc8d185d-cfb1-492e-8558-eeea98b86c46",
   "metadata": {},
   "outputs": [
    {
     "name": "stdout",
     "output_type": "stream",
     "text": [
      "Welcome to your calculator\n",
      "your options are:\n",
      "\n",
      "1. Addition\n",
      "2. Subtraction\n",
      "3. Multiplication\n",
      "4. Division\n",
      "5. Quit calculaor\n"
     ]
    },
    {
     "name": "stdin",
     "output_type": "stream",
     "text": [
      "Choose your option:  1\n"
     ]
    }
   ],
   "source": [
    "def add(a, b):\n",
    "    return a + b\n",
    "\n",
    "def subtract(a, b):\n",
    "    return a - b\n",
    "\n",
    "def multiply(a, b):\n",
    "    return a * b\n",
    "\n",
    "def divide(a, b):\n",
    "    if b == 0:\n",
    "        return \"❌ Error: Cannot divide by zero!\"\n",
    "    return a / b\n",
    "\n",
    "def show_menu():\n",
    "    print(\"Welcome to your calculator\\nyour options are:\\n\")\n",
    "    print(\"1. Addition\")\n",
    "    print(\"2. Subtraction\")\n",
    "    print(\"3. Multiplication\")\n",
    "    print(\"4. Division\")\n",
    "    print(\"5. Quit calculaor\")\n",
    "\n",
    "while True:\n",
    "    show_menu()\n",
    "    choice = input(\"Choose your option: \")\n",
    "\n",
    "    if choice == \"5\":\n",
    "        print(\"👋 Exiting the calculator. Goodbye!\")\n",
    "        break\n",
    "\n",
    "    if choice not in [\"1\", \"2\", \"3\", \"4\"]:\n",
    "        print(\"❗ Invalid selection. Please enter a number from 1 to 5.\")\n",
    "        continue\n",
    "\n",
    "    try:\n",
    "        num1 = int(input(\"Add this: \"))\n",
    "        num2 = int(input(\"to this: \"))\n",
    "    except ValueError:\n",
    "        print(\"❗ Invalid input. Please enter whole numbers only.\")\n",
    "        continue\n",
    "\n",
    "    if choice == \"1\":\n",
    "        print(f\"{num1} + {num2} = {add(num1, num2)}\")\n",
    "    elif choice == \"2\":\n",
    "        print(f\"{num1} - {num2} = {subtract(num1, num2)}\")\n",
    "    elif choice == \"3\":\n",
    "        print(f\"{num1} × {num2} = {multiply(num1, num2)}\")\n",
    "    elif choice == \"4\":\n",
    "        print(f\"{num1} ÷ {num2} = {divide(num1, num2)}\")\n"
   ]
  },
  {
   "cell_type": "code",
   "execution_count": null,
   "id": "71aac28b-01d2-40d5-ae76-ce2343943480",
   "metadata": {},
   "outputs": [],
   "source": []
  },
  {
   "cell_type": "code",
   "execution_count": null,
   "id": "5a3c0abd-c1a4-4d33-afed-e0878d1adbef",
   "metadata": {},
   "outputs": [],
   "source": []
  }
 ],
 "metadata": {
  "kernelspec": {
   "display_name": "Python [conda env:base] *",
   "language": "python",
   "name": "conda-base-py"
  },
  "language_info": {
   "codemirror_mode": {
    "name": "ipython",
    "version": 3
   },
   "file_extension": ".py",
   "mimetype": "text/x-python",
   "name": "python",
   "nbconvert_exporter": "python",
   "pygments_lexer": "ipython3",
   "version": "3.12.7"
  }
 },
 "nbformat": 4,
 "nbformat_minor": 5
}
