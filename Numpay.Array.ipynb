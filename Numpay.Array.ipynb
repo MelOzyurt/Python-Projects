{
 "cells": [
  {
   "cell_type": "code",
   "execution_count": 1,
   "id": "9384b549-2a88-47e1-86de-e18c97c10b07",
   "metadata": {},
   "outputs": [
    {
     "name": "stdout",
     "output_type": "stream",
     "text": [
      "[[1 5]\n",
      " [2 6]\n",
      " [3 7]\n",
      " [4 8]]\n"
     ]
    }
   ],
   "source": [
    "import numpy as np\n",
    "np_arr1 = np.array([1,2,3,4])\n",
    "np_arr2 = np.array([5,6,7,8])\n",
    "print(np.column_stack((np_arr1, np_arr2)))\n"
   ]
  },
  {
   "cell_type": "code",
   "execution_count": 2,
   "id": "e3cd24a7-e998-4aa1-aaff-c236e1868a44",
   "metadata": {},
   "outputs": [
    {
     "name": "stdout",
     "output_type": "stream",
     "text": [
      "10\n"
     ]
    }
   ],
   "source": [
    "z=np.array ([[28,0,13],[19,3,10]])\n",
    "print(z[1][2])"
   ]
  },
  {
   "cell_type": "code",
   "execution_count": 3,
   "id": "e4d3a2b2-4351-4dad-81fc-d98bffeae38b",
   "metadata": {},
   "outputs": [
    {
     "name": "stdout",
     "output_type": "stream",
     "text": [
      "10\n"
     ]
    }
   ],
   "source": [
    "x = 4\n",
    "print( x %7 + 6)"
   ]
  },
  {
   "cell_type": "code",
   "execution_count": 4,
   "id": "2702e889-7b1c-433a-aa32-f856a104eaa9",
   "metadata": {},
   "outputs": [
    {
     "name": "stdout",
     "output_type": "stream",
     "text": [
      "[6, 14, 8, 4]\n"
     ]
    }
   ],
   "source": [
    "x = [16, 6, 14, 8, 4, 3, 14 ]\n",
    "print(x[1:5])"
   ]
  },
  {
   "cell_type": "code",
   "execution_count": 5,
   "id": "25c79b1a-a7b0-4c59-9cfb-a61c0212f46a",
   "metadata": {},
   "outputs": [
    {
     "name": "stdout",
     "output_type": "stream",
     "text": [
      "[14, 18, 4, 3]\n"
     ]
    }
   ],
   "source": [
    "x = [16, 6, 14, 18, 4, 3, 14 ]\n",
    "print(x[2:6])"
   ]
  },
  {
   "cell_type": "code",
   "execution_count": 6,
   "id": "4c032395-1187-47ce-841b-54e12aa5e1cf",
   "metadata": {},
   "outputs": [
    {
     "name": "stdout",
     "output_type": "stream",
     "text": [
      "[6, 14, 18, 4, 3]\n"
     ]
    }
   ],
   "source": [
    "x = [16, 6, 14, 18, 4, 3, 14 ]\n",
    "print(x[1:6])"
   ]
  },
  {
   "cell_type": "code",
   "execution_count": 10,
   "id": "52629896-bd2a-4125-9b19-677639dbb14f",
   "metadata": {},
   "outputs": [
    {
     "name": "stdout",
     "output_type": "stream",
     "text": [
      "  planet length_of_day\n",
      "0  earth             1\n",
      "1   mars          1.03\n"
     ]
    }
   ],
   "source": [
    "import pandas as pd\n",
    "\n",
    "planets = {\n",
    "    'planet':['earth','mars'],\n",
    "    'length_of_day':['1', '1.03']\n",
    "    } \n",
    "planets_df = pd.DataFrame(planets)\n",
    "print(planets_df)"
   ]
  },
  {
   "cell_type": "code",
   "execution_count": 7,
   "id": "c6116b64-7538-4457-9cf0-f8b16838e477",
   "metadata": {},
   "outputs": [
    {
     "name": "stdout",
     "output_type": "stream",
     "text": [
      "  planet length_of_day\n",
      "0  earth             1\n",
      "1   mars          1.03\n"
     ]
    }
   ],
   "source": [
    "import pandas as pd\n",
    "\n",
    "# Creating the dictionary\n",
    "planets = {\n",
    "    'planet': ['earth', 'mars'],\n",
    "    'length_of_day': ['1', '1.03']\n",
    "} \n",
    "\n",
    "# Creating the DataFrame (correcting \"DateFrame\" to \"DataFrame\")\n",
    "planets_df = pd.DataFrame(planets)\n",
    "\n",
    "# Printing the DataFrame\n",
    "print(planets_df)\n"
   ]
  },
  {
   "cell_type": "code",
   "execution_count": null,
   "id": "a133c18c-4d7b-467e-a0f1-1c1706b7d907",
   "metadata": {},
   "outputs": [],
   "source": []
  }
 ],
 "metadata": {
  "kernelspec": {
   "display_name": "Python 3 (ipykernel)",
   "language": "python",
   "name": "python3"
  },
  "language_info": {
   "codemirror_mode": {
    "name": "ipython",
    "version": 3
   },
   "file_extension": ".py",
   "mimetype": "text/x-python",
   "name": "python",
   "nbconvert_exporter": "python",
   "pygments_lexer": "ipython3",
   "version": "3.13.2"
  }
 },
 "nbformat": 4,
 "nbformat_minor": 5
}
